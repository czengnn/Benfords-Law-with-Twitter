{
 "cells": [
  {
   "cell_type": "code",
   "execution_count": 1,
   "metadata": {},
   "outputs": [],
   "source": [
    "import pandas as pd\n",
    "import numpy as np\n",
    "import time\n",
    "import tweepy\n",
    "import keys"
   ]
  },
  {
   "cell_type": "code",
   "execution_count": 2,
   "metadata": {},
   "outputs": [],
   "source": [
    "auth = tweepy.OAuthHandler(keys.consumer_key, keys.consumer_secret)\n",
    "auth.set_access_token(keys.access_token, keys.access_token_secret)\n",
    "\n",
    "api = tweepy.API(auth, wait_on_rate_limit=True)"
   ]
  },
  {
   "cell_type": "code",
   "execution_count": 54,
   "metadata": {},
   "outputs": [],
   "source": [
    "realDonaldTrump_followers_user = pd.read_csv('data/realDonaldTrump_followers_user.csv')\n",
    "UnfollowTrump_followers_user = pd.read_csv('data/UnfollowTrump_followers_user.csv')\n",
    "VP_followers_user = pd.read_csv('data/VP_followers_user.csv')\n",
    "senatemajldr_followers_user = pd.read_csv('data/senatemajldr_followers_user.csv')\n",
    "JoeBiden_followers_user = pd.read_csv('data/JoeBiden_followers_user.csv')\n",
    "SenKamalaHarris_followers_user = pd.read_csv('data/SenKamalaHarris_followers_user.csv')\n",
    "SpeakerPelosi_followers_user = pd.read_csv('data/SpeakerPelosi_followers_user.csv')"
   ]
  },
  {
   "cell_type": "code",
   "execution_count": null,
   "metadata": {},
   "outputs": [],
   "source": [
    "user_dfs = [realDonaldTrump_followers_user,\\\n",
    "            UnfollowTrump_followers_user,\\\n",
    "            VP_followers_user,\\\n",
    "            senatemajldr_followers_user,\\\n",
    "            JoeBiden_followers_user,\\\n",
    "            SenKamalaHarris_followers_user,\\\n",
    "            SpeakerPelosi_followers_user]"
   ]
  },
  {
   "cell_type": "code",
   "execution_count": null,
   "metadata": {},
   "outputs": [],
   "source": []
  }
 ],
 "metadata": {
  "kernelspec": {
   "display_name": "Python 3",
   "language": "python",
   "name": "python3"
  },
  "language_info": {
   "codemirror_mode": {
    "name": "ipython",
    "version": 3
   },
   "file_extension": ".py",
   "mimetype": "text/x-python",
   "name": "python",
   "nbconvert_exporter": "python",
   "pygments_lexer": "ipython3",
   "version": "3.8.3"
  }
 },
 "nbformat": 4,
 "nbformat_minor": 4
}
