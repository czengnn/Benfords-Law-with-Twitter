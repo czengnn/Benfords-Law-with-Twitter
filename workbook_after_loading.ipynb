{
 "cells": [
  {
   "cell_type": "code",
   "execution_count": 1,
   "metadata": {},
   "outputs": [],
   "source": [
    "import pandas as pd\n",
    "import numpy as np\n",
    "import time\n",
    "import tweepy\n",
    "import keys"
   ]
  },
  {
   "cell_type": "code",
   "execution_count": 2,
   "metadata": {},
   "outputs": [],
   "source": [
    "auth = tweepy.OAuthHandler(keys.consumer_key, keys.consumer_secret)\n",
    "auth.set_access_token(keys.access_token, keys.access_token_secret)\n",
    "\n",
    "api = tweepy.API(auth, wait_on_rate_limit=True)"
   ]
  },
  {
   "cell_type": "code",
   "execution_count": 8,
   "metadata": {},
   "outputs": [],
   "source": [
    "def get_df_of_follower_user_object(follower_ids):\n",
    "    followers_user_objects = []\n",
    "    for i in range(0, len(follower_ids), 100):\n",
    "        followers_user_objects.extend(api.lookup_users(follower_ids[i:i+100]))\n",
    "    return pd.DataFrame(followers_user_objects, columns=['user'])"
   ]
  },
  {
   "cell_type": "code",
   "execution_count": 18,
   "metadata": {},
   "outputs": [],
   "source": [
    "UnfollowTrump_followers_users = get_df_of_follower_user_object(list(UnfollowTrump_followers_id.follower_ID))"
   ]
  },
  {
   "cell_type": "code",
   "execution_count": 41,
   "metadata": {},
   "outputs": [],
   "source": [
    "UnfollowTrump_followers_users.to_csv('data/UnfollowTrump_followers_users.csv', index = False)"
   ]
  },
  {
   "cell_type": "code",
   "execution_count": 40,
   "metadata": {},
   "outputs": [
    {
     "data": {
      "text/html": [
       "<div>\n",
       "<style scoped>\n",
       "    .dataframe tbody tr th:only-of-type {\n",
       "        vertical-align: middle;\n",
       "    }\n",
       "\n",
       "    .dataframe tbody tr th {\n",
       "        vertical-align: top;\n",
       "    }\n",
       "\n",
       "    .dataframe thead th {\n",
       "        text-align: right;\n",
       "    }\n",
       "</style>\n",
       "<table border=\"1\" class=\"dataframe\">\n",
       "  <thead>\n",
       "    <tr style=\"text-align: right;\">\n",
       "      <th></th>\n",
       "      <th>user</th>\n",
       "    </tr>\n",
       "  </thead>\n",
       "  <tbody>\n",
       "    <tr>\n",
       "      <th>0</th>\n",
       "      <td>User(_api=&lt;tweepy.api.API object at 0x7fbe2d36...</td>\n",
       "    </tr>\n",
       "    <tr>\n",
       "      <th>1</th>\n",
       "      <td>User(_api=&lt;tweepy.api.API object at 0x7fbe2d36...</td>\n",
       "    </tr>\n",
       "    <tr>\n",
       "      <th>2</th>\n",
       "      <td>User(_api=&lt;tweepy.api.API object at 0x7fbe2d36...</td>\n",
       "    </tr>\n",
       "    <tr>\n",
       "      <th>3</th>\n",
       "      <td>User(_api=&lt;tweepy.api.API object at 0x7fbe2d36...</td>\n",
       "    </tr>\n",
       "    <tr>\n",
       "      <th>4</th>\n",
       "      <td>User(_api=&lt;tweepy.api.API object at 0x7fbe2d36...</td>\n",
       "    </tr>\n",
       "  </tbody>\n",
       "</table>\n",
       "</div>"
      ],
      "text/plain": [
       "                                                user\n",
       "0  User(_api=<tweepy.api.API object at 0x7fbe2d36...\n",
       "1  User(_api=<tweepy.api.API object at 0x7fbe2d36...\n",
       "2  User(_api=<tweepy.api.API object at 0x7fbe2d36...\n",
       "3  User(_api=<tweepy.api.API object at 0x7fbe2d36...\n",
       "4  User(_api=<tweepy.api.API object at 0x7fbe2d36..."
      ]
     },
     "execution_count": 40,
     "metadata": {},
     "output_type": "execute_result"
    }
   ],
   "source": []
  },
  {
   "cell_type": "code",
   "execution_count": 42,
   "metadata": {},
   "outputs": [],
   "source": [
    "def fill_follower_info_df(df):\n",
    "    df['created_at'] = df['user'].apply(lambda x: x.created_at)\n",
    "    df['id'] = df['user'].apply(lambda x: x.id)\n",
    "    df['followers_count'] = df['user'].apply(lambda x: x.followers_count)\n",
    "    df['friends_count'] = df['user'].apply(lambda x: x.friends_count)\n",
    "    df['statuses_count'] = df['user'].apply(lambda x: x.statuses_count)\n",
    "    df['favourites_count'] = df['user'].apply(lambda x: x.favourites_count)"
   ]
  },
  {
   "cell_type": "code",
   "execution_count": 43,
   "metadata": {},
   "outputs": [],
   "source": [
    "fill_follower_info_df(followers_of_trump)"
   ]
  },
  {
   "cell_type": "code",
   "execution_count": 45,
   "metadata": {},
   "outputs": [
    {
     "name": "stdout",
     "output_type": "stream",
     "text": [
      "<class 'pandas.core.frame.DataFrame'>\n",
      "RangeIndex: 49616 entries, 0 to 49615\n",
      "Data columns (total 7 columns):\n",
      " #   Column            Non-Null Count  Dtype         \n",
      "---  ------            --------------  -----         \n",
      " 0   user              49616 non-null  object        \n",
      " 1   created_at        49616 non-null  datetime64[ns]\n",
      " 2   id                49616 non-null  int64         \n",
      " 3   followers_count   49616 non-null  int64         \n",
      " 4   friends_count     49616 non-null  int64         \n",
      " 5   statuses_count    49616 non-null  int64         \n",
      " 6   favourites_count  49616 non-null  int64         \n",
      "dtypes: datetime64[ns](1), int64(5), object(1)\n",
      "memory usage: 2.6+ MB\n"
     ]
    }
   ],
   "source": [
    "followers_of_trump.info()"
   ]
  },
  {
   "cell_type": "code",
   "execution_count": 44,
   "metadata": {},
   "outputs": [
    {
     "data": {
      "text/html": [
       "<div>\n",
       "<style scoped>\n",
       "    .dataframe tbody tr th:only-of-type {\n",
       "        vertical-align: middle;\n",
       "    }\n",
       "\n",
       "    .dataframe tbody tr th {\n",
       "        vertical-align: top;\n",
       "    }\n",
       "\n",
       "    .dataframe thead th {\n",
       "        text-align: right;\n",
       "    }\n",
       "</style>\n",
       "<table border=\"1\" class=\"dataframe\">\n",
       "  <thead>\n",
       "    <tr style=\"text-align: right;\">\n",
       "      <th></th>\n",
       "      <th>user</th>\n",
       "      <th>created_at</th>\n",
       "      <th>id</th>\n",
       "      <th>followers_count</th>\n",
       "      <th>friends_count</th>\n",
       "      <th>statuses_count</th>\n",
       "      <th>favourites_count</th>\n",
       "    </tr>\n",
       "  </thead>\n",
       "  <tbody>\n",
       "    <tr>\n",
       "      <th>0</th>\n",
       "      <td>User(_api=&lt;tweepy.api.API object at 0x7fbe2d36...</td>\n",
       "      <td>2015-04-11 01:32:40</td>\n",
       "      <td>3148798812</td>\n",
       "      <td>142</td>\n",
       "      <td>216</td>\n",
       "      <td>353</td>\n",
       "      <td>190</td>\n",
       "    </tr>\n",
       "    <tr>\n",
       "      <th>1</th>\n",
       "      <td>User(_api=&lt;tweepy.api.API object at 0x7fbe2d36...</td>\n",
       "      <td>2020-12-05 21:34:17</td>\n",
       "      <td>1335336680342040576</td>\n",
       "      <td>0</td>\n",
       "      <td>14</td>\n",
       "      <td>0</td>\n",
       "      <td>0</td>\n",
       "    </tr>\n",
       "    <tr>\n",
       "      <th>2</th>\n",
       "      <td>User(_api=&lt;tweepy.api.API object at 0x7fbe2d36...</td>\n",
       "      <td>2020-12-05 21:29:32</td>\n",
       "      <td>1335335406888423429</td>\n",
       "      <td>0</td>\n",
       "      <td>28</td>\n",
       "      <td>0</td>\n",
       "      <td>0</td>\n",
       "    </tr>\n",
       "    <tr>\n",
       "      <th>3</th>\n",
       "      <td>User(_api=&lt;tweepy.api.API object at 0x7fbe2d36...</td>\n",
       "      <td>2020-08-25 01:52:32</td>\n",
       "      <td>1298075596329611264</td>\n",
       "      <td>1</td>\n",
       "      <td>11</td>\n",
       "      <td>53</td>\n",
       "      <td>93</td>\n",
       "    </tr>\n",
       "    <tr>\n",
       "      <th>4</th>\n",
       "      <td>User(_api=&lt;tweepy.api.API object at 0x7fbe2d36...</td>\n",
       "      <td>2020-06-03 15:49:43</td>\n",
       "      <td>1268207712371904513</td>\n",
       "      <td>5</td>\n",
       "      <td>146</td>\n",
       "      <td>120</td>\n",
       "      <td>12</td>\n",
       "    </tr>\n",
       "  </tbody>\n",
       "</table>\n",
       "</div>"
      ],
      "text/plain": [
       "                                                user          created_at  \\\n",
       "0  User(_api=<tweepy.api.API object at 0x7fbe2d36... 2015-04-11 01:32:40   \n",
       "1  User(_api=<tweepy.api.API object at 0x7fbe2d36... 2020-12-05 21:34:17   \n",
       "2  User(_api=<tweepy.api.API object at 0x7fbe2d36... 2020-12-05 21:29:32   \n",
       "3  User(_api=<tweepy.api.API object at 0x7fbe2d36... 2020-08-25 01:52:32   \n",
       "4  User(_api=<tweepy.api.API object at 0x7fbe2d36... 2020-06-03 15:49:43   \n",
       "\n",
       "                    id  followers_count  friends_count  statuses_count  \\\n",
       "0           3148798812              142            216             353   \n",
       "1  1335336680342040576                0             14               0   \n",
       "2  1335335406888423429                0             28               0   \n",
       "3  1298075596329611264                1             11              53   \n",
       "4  1268207712371904513                5            146             120   \n",
       "\n",
       "   favourites_count  \n",
       "0               190  \n",
       "1                 0  \n",
       "2                 0  \n",
       "3                93  \n",
       "4                12  "
      ]
     },
     "execution_count": 44,
     "metadata": {},
     "output_type": "execute_result"
    }
   ],
   "source": [
    "followers_of_trump.head()"
   ]
  },
  {
   "cell_type": "code",
   "execution_count": 30,
   "metadata": {},
   "outputs": [
    {
     "data": {
      "text/plain": [
       "pandas.core.series.Series"
      ]
     },
     "execution_count": 30,
     "metadata": {},
     "output_type": "execute_result"
    }
   ],
   "source": [
    "type(followers_of_trump.followers_count)"
   ]
  },
  {
   "cell_type": "code",
   "execution_count": 22,
   "metadata": {},
   "outputs": [
    {
     "name": "stdout",
     "output_type": "stream",
     "text": [
      "<class 'pandas.core.frame.DataFrame'>\n",
      "RangeIndex: 49616 entries, 0 to 49615\n",
      "Data columns (total 7 columns):\n",
      " #   Column            Non-Null Count  Dtype         \n",
      "---  ------            --------------  -----         \n",
      " 0   user              49616 non-null  object        \n",
      " 1   created_at        49616 non-null  datetime64[ns]\n",
      " 2   id                49616 non-null  int64         \n",
      " 3   follwer_count     49616 non-null  int64         \n",
      " 4   friends_count     49616 non-null  int64         \n",
      " 5   statuses_count    49616 non-null  int64         \n",
      " 6   favourites_count  49616 non-null  int64         \n",
      "dtypes: datetime64[ns](1), int64(5), object(1)\n",
      "memory usage: 2.6+ MB\n"
     ]
    }
   ],
   "source": [
    "def first_digit_of_count(df)"
   ]
  },
  {
   "cell_type": "code",
   "execution_count": null,
   "metadata": {},
   "outputs": [],
   "source": []
  }
 ],
 "metadata": {
  "kernelspec": {
   "display_name": "Python 3",
   "language": "python",
   "name": "python3"
  },
  "language_info": {
   "codemirror_mode": {
    "name": "ipython",
    "version": 3
   },
   "file_extension": ".py",
   "mimetype": "text/x-python",
   "name": "python",
   "nbconvert_exporter": "python",
   "pygments_lexer": "ipython3",
   "version": "3.8.3"
  }
 },
 "nbformat": 4,
 "nbformat_minor": 4
}
