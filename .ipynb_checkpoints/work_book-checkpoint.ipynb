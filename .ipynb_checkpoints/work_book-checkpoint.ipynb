{
 "cells": [
  {
   "cell_type": "code",
   "execution_count": 6,
   "metadata": {},
   "outputs": [],
   "source": [
    "import pandas as pd\n",
    "import numpy as np\n",
    "import time\n",
    "import tweepy\n",
    "import keys"
   ]
  },
  {
   "cell_type": "code",
   "execution_count": 7,
   "metadata": {},
   "outputs": [],
   "source": [
    "auth = tweepy.OAuthHandler(keys.consumer_key, keys.consumer_secret)\n",
    "auth.set_access_token(keys.access_token, keys.access_token_secret)\n",
    "\n",
    "api = tweepy.API(auth, wait_on_rate_limit=True)"
   ]
  },
  {
   "cell_type": "code",
   "execution_count": 82,
   "metadata": {},
   "outputs": [],
   "source": [
    "def get_follower_id(screen_name, page=20):\n",
    "    followers_id = []\n",
    "    for page in tweepy.Cursor(api.followers_ids, screen_name=screen_name).pages(page):\n",
    "        followers_id.extend(page)\n",
    "    df = pd.DataFrame(followers_id, columns=['follower_ID'])\n",
    "    df.to_csv(f'data/{screen_name}_followers_id.csv', index = False)"
   ]
  },
  {
   "cell_type": "code",
   "execution_count": 87,
   "metadata": {},
   "outputs": [],
   "source": [
    "screen_names = ['realDonaldTrump','VP', 'UnfollowTrump','senatemajldr','JoeBiden','SenKamalaHarris','SpeakerPelosi']"
   ]
  },
  {
   "cell_type": "code",
   "execution_count": null,
   "metadata": {},
   "outputs": [],
   "source": [
    "for name in screen_names:\n",
    "    get_follower_id(name)"
   ]
  },
  {
   "cell_type": "code",
   "execution_count": null,
   "metadata": {},
   "outputs": [],
   "source": [
    "realDonaldTrump_followers_id = pd.read_csv('data/realDonaldTrump_followers_id.csv')\n",
    "UnfollowTrump_followers_id = pd.read_csv('data/UnfollowTrump_followers_id.csv')\n",
    "VP_followers_id = pd.read_csv('data/VP_followers_id.csv')\n",
    "senatemajldr_followers_id = pd.read_csv('data/senatemajldr_followers_id.csv')\n",
    "JoeBiden_followers_id = pd.read_csv('data/JoeBiden_followers_id.csv')\n",
    "SenKamalaHarris_followers_id = pd.read_csv('data/SenKamalaHarris_followers_id.csv')\n",
    "SpeakerPelosi_followers_id = pd.read_csv('data/SpeakerPelosi_followers_id.csv')"
   ]
  },
  {
   "cell_type": "code",
   "execution_count": 25,
   "metadata": {},
   "outputs": [],
   "source": [
    "def get_df_of_follower_user_object(follower_ids):\n",
    "    followers_user_objects = []\n",
    "    for i in range(0, len(follower_ids), 100):\n",
    "        followers_user_objects.extend(api.lookup_users(follower_ids[i:i+100]))\n",
    "    return pd.DataFrame(followers_user_objects, columns=['user'])"
   ]
  },
  {
   "cell_type": "code",
   "execution_count": 45,
   "metadata": {},
   "outputs": [],
   "source": [
    "followers_of_trump = get_df_of_follower_user_object(list(trump_df.follwer_ID))"
   ]
  },
  {
   "cell_type": "code",
   "execution_count": 44,
   "metadata": {},
   "outputs": [],
   "source": [
    "def fill_follower_info_df(df):\n",
    "    df['created_at'] = df['user'].apply(lambda x: x.created_at)\n",
    "    df['id'] = df['user'].apply(lambda x: x.id)\n",
    "    df['follwer_count'] = df['user'].apply(lambda x: x.followers_count)\n",
    "    df['friends_count'] = df['user'].apply(lambda x: x.friends_count)\n",
    "    df['statuses_count'] = df['user'].apply(lambda x: x.statuses_count)\n",
    "    df['favourites_count'] = df['user'].apply(lambda x: x.favourites_count)"
   ]
  },
  {
   "cell_type": "code",
   "execution_count": 46,
   "metadata": {},
   "outputs": [],
   "source": [
    "fill_follower_info_df(followers_of_trump)"
   ]
  },
  {
   "cell_type": "code",
   "execution_count": 47,
   "metadata": {},
   "outputs": [
    {
     "data": {
      "text/html": [
       "<div>\n",
       "<style scoped>\n",
       "    .dataframe tbody tr th:only-of-type {\n",
       "        vertical-align: middle;\n",
       "    }\n",
       "\n",
       "    .dataframe tbody tr th {\n",
       "        vertical-align: top;\n",
       "    }\n",
       "\n",
       "    .dataframe thead th {\n",
       "        text-align: right;\n",
       "    }\n",
       "</style>\n",
       "<table border=\"1\" class=\"dataframe\">\n",
       "  <thead>\n",
       "    <tr style=\"text-align: right;\">\n",
       "      <th></th>\n",
       "      <th>user</th>\n",
       "      <th>created_at</th>\n",
       "      <th>id</th>\n",
       "      <th>follwer_count</th>\n",
       "      <th>friends_count</th>\n",
       "      <th>statuses_count</th>\n",
       "      <th>favourites_count</th>\n",
       "    </tr>\n",
       "  </thead>\n",
       "  <tbody>\n",
       "    <tr>\n",
       "      <th>0</th>\n",
       "      <td>User(_api=&lt;tweepy.api.API object at 0x7fed0c5a...</td>\n",
       "      <td>2015-04-11 01:32:40</td>\n",
       "      <td>3148798812</td>\n",
       "      <td>142</td>\n",
       "      <td>216</td>\n",
       "      <td>353</td>\n",
       "      <td>190</td>\n",
       "    </tr>\n",
       "    <tr>\n",
       "      <th>1</th>\n",
       "      <td>User(_api=&lt;tweepy.api.API object at 0x7fed0c5a...</td>\n",
       "      <td>2020-12-05 21:34:17</td>\n",
       "      <td>1335336680342040576</td>\n",
       "      <td>0</td>\n",
       "      <td>14</td>\n",
       "      <td>0</td>\n",
       "      <td>0</td>\n",
       "    </tr>\n",
       "    <tr>\n",
       "      <th>2</th>\n",
       "      <td>User(_api=&lt;tweepy.api.API object at 0x7fed0c5a...</td>\n",
       "      <td>2020-12-05 21:29:32</td>\n",
       "      <td>1335335406888423429</td>\n",
       "      <td>0</td>\n",
       "      <td>28</td>\n",
       "      <td>0</td>\n",
       "      <td>0</td>\n",
       "    </tr>\n",
       "    <tr>\n",
       "      <th>3</th>\n",
       "      <td>User(_api=&lt;tweepy.api.API object at 0x7fed0c5a...</td>\n",
       "      <td>2020-08-25 01:52:32</td>\n",
       "      <td>1298075596329611264</td>\n",
       "      <td>1</td>\n",
       "      <td>11</td>\n",
       "      <td>53</td>\n",
       "      <td>93</td>\n",
       "    </tr>\n",
       "    <tr>\n",
       "      <th>4</th>\n",
       "      <td>User(_api=&lt;tweepy.api.API object at 0x7fed0c5a...</td>\n",
       "      <td>2020-06-03 15:49:43</td>\n",
       "      <td>1268207712371904513</td>\n",
       "      <td>5</td>\n",
       "      <td>146</td>\n",
       "      <td>120</td>\n",
       "      <td>12</td>\n",
       "    </tr>\n",
       "  </tbody>\n",
       "</table>\n",
       "</div>"
      ],
      "text/plain": [
       "                                                user          created_at  \\\n",
       "0  User(_api=<tweepy.api.API object at 0x7fed0c5a... 2015-04-11 01:32:40   \n",
       "1  User(_api=<tweepy.api.API object at 0x7fed0c5a... 2020-12-05 21:34:17   \n",
       "2  User(_api=<tweepy.api.API object at 0x7fed0c5a... 2020-12-05 21:29:32   \n",
       "3  User(_api=<tweepy.api.API object at 0x7fed0c5a... 2020-08-25 01:52:32   \n",
       "4  User(_api=<tweepy.api.API object at 0x7fed0c5a... 2020-06-03 15:49:43   \n",
       "\n",
       "                    id  follwer_count  friends_count  statuses_count  \\\n",
       "0           3148798812            142            216             353   \n",
       "1  1335336680342040576              0             14               0   \n",
       "2  1335335406888423429              0             28               0   \n",
       "3  1298075596329611264              1             11              53   \n",
       "4  1268207712371904513              5            146             120   \n",
       "\n",
       "   favourites_count  \n",
       "0               190  \n",
       "1                 0  \n",
       "2                 0  \n",
       "3                93  \n",
       "4                12  "
      ]
     },
     "execution_count": 47,
     "metadata": {},
     "output_type": "execute_result"
    }
   ],
   "source": [
    "followers_of_trump.head()"
   ]
  },
  {
   "cell_type": "code",
   "execution_count": null,
   "metadata": {},
   "outputs": [],
   "source": []
  }
 ],
 "metadata": {
  "kernelspec": {
   "display_name": "Python 3",
   "language": "python",
   "name": "python3"
  },
  "language_info": {
   "codemirror_mode": {
    "name": "ipython",
    "version": 3
   },
   "file_extension": ".py",
   "mimetype": "text/x-python",
   "name": "python",
   "nbconvert_exporter": "python",
   "pygments_lexer": "ipython3",
   "version": "3.8.3"
  }
 },
 "nbformat": 4,
 "nbformat_minor": 4
}
