{
 "cells": [
  {
   "cell_type": "code",
   "execution_count": 2,
   "metadata": {},
   "outputs": [],
   "source": [
    "import pandas as pd\n",
    "import numpy as np\n",
    "import time\n",
    "import tweepy\n",
    "import keys"
   ]
  },
  {
   "cell_type": "code",
   "execution_count": 3,
   "metadata": {},
   "outputs": [],
   "source": [
    "auth = tweepy.OAuthHandler(keys.consumer_key, keys.consumer_secret)\n",
    "auth.set_access_token(keys.access_token, keys.access_token_secret)\n",
    "\n",
    "api = tweepy.API(auth, wait_on_rate_limit=True)"
   ]
  },
  {
   "cell_type": "code",
   "execution_count": null,
   "metadata": {},
   "outputs": [],
   "source": [
    "realDonaldTrump_followers_user = pd.read_pickle('data/user_object/realDonaldTrump_followers_user.pkl')\n",
    "UnfollowTrump_followers_user = pd.read_pickle('data/user_object/UnfollowTrump_followers_user.pkl')\n",
    "VP_followers_user = pd.read_pickle('data/user_object/VP_followers_user.pkl')\n",
    "senatemajldr_followers_user = pd.read_pickle('data/user_object/senatemajldr_followers_user.pkl')\n",
    "JoeBiden_followers_user = pd.read_pickle('data/user_object/JoeBiden_followers_user.pkl')\n",
    "SenKamalaHarris_followers_user = pd.read_pickle('data/user_object/SenKamalaHarris_followers_user.pkl')\n",
    "SpeakerPelosi_followers_user = pd.read_pickle('data/user_object/SpeakerPelosi_followers_user.pkl')"
   ]
  },
  {
   "cell_type": "code",
   "execution_count": null,
   "metadata": {},
   "outputs": [],
   "source": [
    "user_dfs = [realDonaldTrump_followers_user,\\\n",
    "            UnfollowTrump_followers_user,\\\n",
    "            VP_followers_user,\\\n",
    "            senatemajldr_followers_user,\\\n",
    "            JoeBiden_followers_user,\\\n",
    "            SenKamalaHarris_followers_user,\\\n",
    "            SpeakerPelosi_followers_user]"
   ]
  },
  {
   "cell_type": "code",
   "execution_count": null,
   "metadata": {},
   "outputs": [],
   "source": []
  }
 ],
 "metadata": {
  "kernelspec": {
   "display_name": "Python 3",
   "language": "python",
   "name": "python3"
  },
  "language_info": {
   "codemirror_mode": {
    "name": "ipython",
    "version": 3
   },
   "file_extension": ".py",
   "mimetype": "text/x-python",
   "name": "python",
   "nbconvert_exporter": "python",
   "pygments_lexer": "ipython3",
   "version": "3.8.3"
  }
 },
 "nbformat": 4,
 "nbformat_minor": 4
}
