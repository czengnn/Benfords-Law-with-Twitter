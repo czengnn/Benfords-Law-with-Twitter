{
 "cells": [
  {
   "cell_type": "code",
   "execution_count": 4,
   "metadata": {},
   "outputs": [],
   "source": [
    "import pandas as pd\n",
    "import numpy as np\n",
    "import time\n",
    "import tweepy\n",
    "import keys"
   ]
  },
  {
   "cell_type": "code",
   "execution_count": 22,
   "metadata": {},
   "outputs": [],
   "source": [
    "auth = tweepy.OAuthHandler(keys.consumer_key, keys.consumer_secret)\n",
    "auth.set_access_token(keys.access_token, keys.access_token_secret)\n",
    "\n",
    "api = tweepy.API(auth, wait_on_rate_limit=True)"
   ]
  },
  {
   "cell_type": "code",
   "execution_count": 6,
   "metadata": {},
   "outputs": [],
   "source": [
    "def followers_id_to_csv(screen_name, page=20):\n",
    "    followers_id = []\n",
    "    for page in tweepy.Cursor(api.followers_ids, screen_name=screen_name).pages(page):\n",
    "        followers_id.extend(page)\n",
    "    df = pd.DataFrame(followers_id, columns=['follower_ID'])\n",
    "    df.to_csv(f'data/{screen_name}_followers_id.csv', index = False)"
   ]
  },
  {
   "cell_type": "code",
   "execution_count": 92,
   "metadata": {},
   "outputs": [],
   "source": [
    "# screen_names = ['realDonaldTrump','VP', 'UnfollowTrump','senatemajldr','JoeBiden','SenKamalaHarris','SpeakerPelosi']\n",
    "# for name in screen_names:\n",
    "#     followers_id_to_csv(name)"
   ]
  },
  {
   "cell_type": "code",
   "execution_count": 7,
   "metadata": {},
   "outputs": [],
   "source": [
    "realDonaldTrump_followers_id = pd.read_csv('data/realDonaldTrump_followers_id.csv')\n",
    "UnfollowTrump_followers_id = pd.read_csv('data/UnfollowTrump_followers_id.csv')\n",
    "VP_followers_id = pd.read_csv('data/VP_followers_id.csv')\n",
    "senatemajldr_followers_id = pd.read_csv('data/senatemajldr_followers_id.csv')\n",
    "JoeBiden_followers_id = pd.read_csv('data/JoeBiden_followers_id.csv')\n",
    "SenKamalaHarris_followers_id = pd.read_csv('data/SenKamalaHarris_followers_id.csv')\n",
    "SpeakerPelosi_followers_id = pd.read_csv('data/SpeakerPelosi_followers_id.csv')"
   ]
  },
  {
   "cell_type": "code",
   "execution_count": 8,
   "metadata": {},
   "outputs": [],
   "source": [
    "def fill_follower_user_df(df):\n",
    "    df['created_at'] = df['user'].apuply(lambda x: x.created_at)\n",
    "    df['id'] = df['user'].apply(lambda x: x.id)\n",
    "    df['follwer_count'] = df['user'].apply(lambda x: x.followers_count)\n",
    "    df['friends_count'] = df['user'].apply(lambda x: x.friends_count)\n",
    "    df['statuses_count'] = df['user'].apply(lambda x: x.statuses_count)\n",
    "    df['favourites_count'] = df['user'].apply(lambda x: x.favourites_count)"
   ]
  },
  {
   "cell_type": "code",
   "execution_count": 9,
   "metadata": {},
   "outputs": [],
   "source": [
    "def follower_user_df_to_pickle(follower_ids,screen_name):\n",
    "    followers_user_objects = []\n",
    "    for i in range(0, len(follower_ids), 100):\n",
    "        followers_user_objects.extend(api.lookup_users(follower_ids[i:i+100]))\n",
    "    df = pd.DataFrame(followers_user_objects, columns=['user'])\n",
    "    df.to_pickle(f'data/user_object/{screen_name}_followers_user.pkl')"
   ]
  },
  {
   "cell_type": "markdown",
   "metadata": {},
   "source": [
    "Save user objects to csv"
   ]
  },
  {
   "cell_type": "code",
   "execution_count": 23,
   "metadata": {},
   "outputs": [],
   "source": [
    "# follower_user_df_to_pickle(list(realDonaldTrump_followers_id.follower_ID),'realDonaldTrump')\n",
    "# follower_user_df_to_pickle(list(UnfollowTrump_followers_id.follower_ID),'UnfollowTrump')\n",
    "# follower_user_df_to_pickle(list(VP_followers_id.follower_ID),'VP')\n",
    "# follower_user_df_to_pickle(list(senatemajldr_followers_id.follower_ID),'senatemajldr')\n",
    "# follower_user_df_to_pickle(list(JoeBiden_followers_id.follower_ID),'JoeBiden')\n",
    "# follower_user_df_to_pickle(list(SenKamalaHarris_followers_id.follower_ID),'SenKamalaHarris')\n",
    "\n",
    "# follower_user_df_to_pickle(list(SpeakerPelosi_followers_id.follower_ID),'SpeakerPelosi')"
   ]
  },
  {
   "cell_type": "code",
   "execution_count": null,
   "metadata": {},
   "outputs": [],
   "source": [
    "realDonaldTrump_followers_user = pd.read_pickle('data/realDonaldTrump_followers_user.pkl')\n",
    "UnfollowTrump_followers_user = pd.read_pickle('data/UnfollowTrump_followers_user.pkl')\n",
    "VP_followers_user = pd.read_pickle('data/VP_followers_user.pkl')\n",
    "senatemajldr_followers_user = pd.read_pickle('data/senatemajldr_followers_user.pkl')\n",
    "JoeBiden_followers_user = pd.read_pickle('data/JoeBiden_followers_user.pkl')\n",
    "SenKamalaHarris_followers_user = pd.read_pickle('data/SenKamalaHarris_followers_user.pkl')\n",
    "SpeakerPelosi_followers_user = pd.read_pickle('data/SpeakerPelosi_followers_user.pkl')"
   ]
  },
  {
   "cell_type": "code",
   "execution_count": 157,
   "metadata": {},
   "outputs": [],
   "source": [
    "save_follower_user_df_to_pickle(list(realDonaldTrump_followers_id.follower_ID[:10]),'realDonaldTrump')"
   ]
  },
  {
   "cell_type": "code",
   "execution_count": 165,
   "metadata": {},
   "outputs": [],
   "source": [
    "realDonaldTrump_followers_user = pd.read_pickle('data/user_object/realDonaldTrump_followers_user.pkl')"
   ]
  },
  {
   "cell_type": "code",
   "execution_count": 168,
   "metadata": {},
   "outputs": [
    {
     "data": {
      "text/plain": [
       "16"
      ]
     },
     "execution_count": 168,
     "metadata": {},
     "output_type": "execute_result"
    }
   ],
   "source": [
    "realDonaldTrump_followers_user.user[0].screen_name\n",
    "realDonaldTrump_followers_user.user[0].friends_count\n"
   ]
  },
  {
   "cell_type": "code",
   "execution_count": null,
   "metadata": {},
   "outputs": [],
   "source": []
  }
 ],
 "metadata": {
  "kernelspec": {
   "display_name": "Python 3",
   "language": "python",
   "name": "python3"
  },
  "language_info": {
   "codemirror_mode": {
    "name": "ipython",
    "version": 3
   },
   "file_extension": ".py",
   "mimetype": "text/x-python",
   "name": "python",
   "nbconvert_exporter": "python",
   "pygments_lexer": "ipython3",
   "version": "3.8.3"
  }
 },
 "nbformat": 4,
 "nbformat_minor": 4
}
